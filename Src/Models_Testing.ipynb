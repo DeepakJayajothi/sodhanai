{
  "cells": [
    {
      "cell_type": "code",
      "execution_count": 1,
      "metadata": {
        "colab": {
          "base_uri": "https://localhost:8080/"
        },
        "id": "tNblbWHc8Mea",
        "outputId": "63b658a3-8166-4929-81f4-636c6f940cab"
      },
      "outputs": [
        {
          "name": "stdout",
          "output_type": "stream",
          "text": [
            "Looking in indexes: https://pypi.org/simple, https://pypi.ngc.nvidia.com\n",
            "Requirement already satisfied: keras_preprocessing in c:\\users\\pavit\\appdata\\local\\programs\\python\\python39\\lib\\site-packages (1.1.2)\n",
            "Requirement already satisfied: six>=1.9.0 in c:\\users\\pavit\\appdata\\local\\programs\\python\\python39\\lib\\site-packages (from keras_preprocessing) (1.15.0)\n",
            "Requirement already satisfied: numpy>=1.9.1 in c:\\users\\pavit\\appdata\\local\\programs\\python\\python39\\lib\\site-packages (from keras_preprocessing) (1.24.2)\n",
            "Note: you may need to restart the kernel to use updated packages.\n"
          ]
        },
        {
          "name": "stderr",
          "output_type": "stream",
          "text": [
            "WARNING: Ignoring invalid distribution -rotobuf (c:\\users\\pavit\\appdata\\local\\programs\\python\\python39\\lib\\site-packages)\n",
            "WARNING: Ignoring invalid distribution -rotobuf (c:\\users\\pavit\\appdata\\local\\programs\\python\\python39\\lib\\site-packages)\n",
            "WARNING: Ignoring invalid distribution -rotobuf (c:\\users\\pavit\\appdata\\local\\programs\\python\\python39\\lib\\site-packages)\n",
            "WARNING: Ignoring invalid distribution -rotobuf (c:\\users\\pavit\\appdata\\local\\programs\\python\\python39\\lib\\site-packages)\n",
            "WARNING: Ignoring invalid distribution -rotobuf (c:\\users\\pavit\\appdata\\local\\programs\\python\\python39\\lib\\site-packages)\n",
            "WARNING: Ignoring invalid distribution -rotobuf (c:\\users\\pavit\\appdata\\local\\programs\\python\\python39\\lib\\site-packages)\n"
          ]
        }
      ],
      "source": [
        "pip install keras_preprocessing"
      ]
    },
    {
      "cell_type": "code",
      "execution_count": 2,
      "metadata": {
        "id": "zvqowXoJ4K7N"
      },
      "outputs": [],
      "source": [
        "import preprocess_text\n",
        "import tensorflow as tf\n",
        "from tensorflow.keras.preprocessing.sequence import pad_sequences\n",
        "from tensorflow.keras.preprocessing.text import Tokenizer\n",
        "from tensorflow.keras.models import load_model\n",
        "import pickle"
      ]
    },
    {
      "cell_type": "code",
      "execution_count": 7,
      "metadata": {
        "id": "1e5gc9q-4K7R"
      },
      "outputs": [
        {
          "name": "stderr",
          "output_type": "stream",
          "text": [
            "c:\\Users\\Pavit\\AppData\\Local\\Programs\\Python\\Python39\\lib\\site-packages\\sklearn\\base.py:329: UserWarning: Trying to unpickle estimator TfidfTransformer from version 1.2.2 when using version 1.1.1. This might lead to breaking code or invalid results. Use at your own risk. For more info please refer to:\n",
            "https://scikit-learn.org/stable/model_persistence.html#security-maintainability-limitations\n",
            "  warnings.warn(\n",
            "c:\\Users\\Pavit\\AppData\\Local\\Programs\\Python\\Python39\\lib\\site-packages\\sklearn\\base.py:329: UserWarning: Trying to unpickle estimator TfidfVectorizer from version 1.2.2 when using version 1.1.1. This might lead to breaking code or invalid results. Use at your own risk. For more info please refer to:\n",
            "https://scikit-learn.org/stable/model_persistence.html#security-maintainability-limitations\n",
            "  warnings.warn(\n",
            "c:\\Users\\Pavit\\AppData\\Local\\Programs\\Python\\Python39\\lib\\site-packages\\sklearn\\base.py:329: UserWarning: Trying to unpickle estimator DecisionTreeClassifier from version 1.2.2 when using version 1.1.1. This might lead to breaking code or invalid results. Use at your own risk. For more info please refer to:\n",
            "https://scikit-learn.org/stable/model_persistence.html#security-maintainability-limitations\n",
            "  warnings.warn(\n",
            "c:\\Users\\Pavit\\AppData\\Local\\Programs\\Python\\Python39\\lib\\site-packages\\sklearn\\base.py:329: UserWarning: Trying to unpickle estimator RandomForestClassifier from version 1.2.2 when using version 1.1.1. This might lead to breaking code or invalid results. Use at your own risk. For more info please refer to:\n",
            "https://scikit-learn.org/stable/model_persistence.html#security-maintainability-limitations\n",
            "  warnings.warn(\n"
          ]
        }
      ],
      "source": [
        "tf_idf = pickle.load(open('../Pretrained_Models/tfidf_tokenizer.pkl','rb'))\n",
        "rf_model = pickle.load(open('../Pretrained_Models/random_forest.pkl','rb'))"
      ]
    },
    {
      "cell_type": "code",
      "execution_count": 8,
      "metadata": {
        "id": "rUI4jHF44K7S"
      },
      "outputs": [
        {
          "name": "stderr",
          "output_type": "stream",
          "text": [
            "c:\\Users\\Pavit\\AppData\\Local\\Programs\\Python\\Python39\\lib\\site-packages\\sklearn\\base.py:329: UserWarning: Trying to unpickle estimator TfidfTransformer from version 1.2.2 when using version 1.1.1. This might lead to breaking code or invalid results. Use at your own risk. For more info please refer to:\n",
            "https://scikit-learn.org/stable/model_persistence.html#security-maintainability-limitations\n",
            "  warnings.warn(\n",
            "c:\\Users\\Pavit\\AppData\\Local\\Programs\\Python\\Python39\\lib\\site-packages\\sklearn\\base.py:329: UserWarning: Trying to unpickle estimator TfidfVectorizer from version 1.2.2 when using version 1.1.1. This might lead to breaking code or invalid results. Use at your own risk. For more info please refer to:\n",
            "https://scikit-learn.org/stable/model_persistence.html#security-maintainability-limitations\n",
            "  warnings.warn(\n"
          ]
        }
      ],
      "source": [
        "tokenizer = pickle.load(open('../Pretrained_Models/tfidf_tokenizer.pkl','rb'))\n",
        "model = load_model('../Pretrained_Models/lstm.h5',compile=False)"
      ]
    },
    {
      "cell_type": "code",
      "execution_count": 9,
      "metadata": {
        "id": "0H3SSW_x4K7S"
      },
      "outputs": [],
      "source": [
        "def predict_ml(text):\n",
        "    new_text = preprocess_text.clean_text(text)\n",
        "    vec = tf_idf.transform([new_text])\n",
        "    res = rf_model.predict(vec)\n",
        "    return res "
      ]
    },
    {
      "cell_type": "code",
      "execution_count": 10,
      "metadata": {
        "id": "254P2UFF4K7T"
      },
      "outputs": [],
      "source": [
        "def predict_dl(text):\n",
        "    new_text = preprocess_text.clean_text(text)\n",
        "    vectorized_text = tfidf.transform([new_text])\n",
        "    padded_sequence = pad_sequences(vectorized_text, padding='post', maxlen=max_length)\n",
        "    res = model.predict(padded_sequence)\n",
        "    return res\n"
      ]
    },
    {
      "cell_type": "code",
      "execution_count": 11,
      "metadata": {
        "colab": {
          "base_uri": "https://localhost:8080/"
        },
        "id": "gBayGk856BI2",
        "outputId": "90efd872-47db-4fde-90ea-297a265773e4"
      },
      "outputs": [
        {
          "name": "stderr",
          "output_type": "stream",
          "text": [
            "[nltk_data] Downloading package wordnet to\n",
            "[nltk_data]     C:\\Users\\Pavit\\AppData\\Roaming\\nltk_data...\n"
          ]
        },
        {
          "data": {
            "text/plain": [
              "True"
            ]
          },
          "execution_count": 11,
          "metadata": {},
          "output_type": "execute_result"
        }
      ],
      "source": [
        "import nltk\n",
        "nltk.download('wordnet')"
      ]
    },
    {
      "cell_type": "code",
      "execution_count": 12,
      "metadata": {
        "id": "mjNnSz4M8jbE"
      },
      "outputs": [],
      "source": [
        "from keras.preprocessing import sequence"
      ]
    },
    {
      "cell_type": "code",
      "execution_count": 13,
      "metadata": {
        "id": "EIBXrs0o6_fS"
      },
      "outputs": [],
      "source": [
        "import pickle\n",
        "from sklearn.feature_extraction.text import TfidfVectorizer"
      ]
    },
    {
      "cell_type": "code",
      "execution_count": 15,
      "metadata": {
        "colab": {
          "base_uri": "https://localhost:8080/"
        },
        "id": "8cmZUURH70AZ",
        "outputId": "c9ef4901-c7b5-473a-a8ca-b3fd6a10c4af"
      },
      "outputs": [
        {
          "name": "stderr",
          "output_type": "stream",
          "text": [
            "c:\\Users\\Pavit\\AppData\\Local\\Programs\\Python\\Python39\\lib\\site-packages\\sklearn\\base.py:329: UserWarning: Trying to unpickle estimator TfidfTransformer from version 1.2.2 when using version 1.1.1. This might lead to breaking code or invalid results. Use at your own risk. For more info please refer to:\n",
            "https://scikit-learn.org/stable/model_persistence.html#security-maintainability-limitations\n",
            "  warnings.warn(\n",
            "c:\\Users\\Pavit\\AppData\\Local\\Programs\\Python\\Python39\\lib\\site-packages\\sklearn\\base.py:329: UserWarning: Trying to unpickle estimator TfidfVectorizer from version 1.2.2 when using version 1.1.1. This might lead to breaking code or invalid results. Use at your own risk. For more info please refer to:\n",
            "https://scikit-learn.org/stable/model_persistence.html#security-maintainability-limitations\n",
            "  warnings.warn(\n"
          ]
        },
        {
          "name": "stdout",
          "output_type": "stream",
          "text": [
            "1/1 [==============================] - 2s 2s/step\n",
            "[[0.84719604]]\n"
          ]
        }
      ],
      "source": [
        "import pickle\n",
        "from sklearn.feature_extraction.text import TfidfVectorizer\n",
        "# from keras_preprocessing.sequence import pad_sequences\n",
        "from tensorflow.keras.preprocessing.sequence import pad_sequences\n",
        "# Load your pre-trained TfidfVectorizer from pickle file\n",
        "with open('../Pretrained_Models/tfidf_tokenizer.pkl', 'rb') as f:\n",
        "    tfidf = pickle.load(f)\n",
        "\n",
        "# Example raw text to predict on\n",
        "raw_text = 'Unknown perpetrators detonated a bomb'\n",
        "\n",
        "# Vectorize raw text using the pre-trained TfidfVectorizer\n",
        "vectorized_text = tfidf.transform([raw_text])\n",
        "\n",
        "# Define the maximum length of your input sequence\n",
        "max_length = 100\n",
        "\n",
        "# Check the length of the sparse matrix using its 'shape' attribute\n",
        "length = vectorized_text.shape[1]\n",
        "\n",
        "# Pad the vectorized text to have the same length as your model's input\n",
        "padded_sequence = pad_sequences(vectorized_text.toarray(), padding='post', maxlen=max_length)\n",
        "\n",
        "# Make the prediction using your pre-trained model\n",
        "prediction = model.predict(padded_sequence)\n",
        "\n",
        "# Print the predicted value\n",
        "print(prediction)"
      ]
    },
    {
      "cell_type": "code",
      "execution_count": 24,
      "metadata": {
        "colab": {
          "base_uri": "https://localhost:8080/"
        },
        "id": "yG4nyL-k4K7T",
        "outputId": "b84a02bb-42f3-44a6-bb42-23cfb71917ff",
        "scrolled": false
      },
      "outputs": [
        {
          "name": "stdout",
          "output_type": "stream",
          "text": [
            "1/1 [==============================] - 0s 45ms/step\n",
            " Unknown perpetrators detonated a bomb :True\n",
            "1/1 [==============================] - 0s 42ms/step\n",
            "Terrorist placed an explosive device in the vicinity :True\n",
            "1/1 [==============================] - 0s 39ms/step\n",
            "My favorite place is bed :True\n",
            "1/1 [==============================] - 0s 47ms/step\n",
            "This is a good movie :True\n",
            "\n",
            " \n",
            "\n",
            " Unknown perpetrators detonated a bomb :1\n",
            "Terrorist placed an explosive device in the vicinity :1\n",
            "My favorite place is bed :1\n",
            "This is a good movie :0\n"
          ]
        }
      ],
      "source": [
        "text = [' Unknown perpetrators detonated a bomb', 'Terrorist placed an explosive device in the vicinity',\n",
        "        'My favorite place is bed', 'This is a good movie']\n",
        "\n",
        "for t in text:\n",
        "    res = predict_dl(t)\n",
        "    res = res > 0.5\n",
        "    print(\"{} :{}\".format(t, res[0]))\n",
        "\n",
        "print(\"\\n \\n\")\n",
        "\n",
        "\n",
        "for t in text:\n",
        "    res = predict_ml(t)\n",
        "    print(\"{} :{}\".format(t, res[0]))"
      ]
    }
  ],
  "metadata": {
    "colab": {
      "provenance": []
    },
    "kernelspec": {
      "display_name": "Python 3",
      "language": "python",
      "name": "python3"
    },
    "language_info": {
      "codemirror_mode": {
        "name": "ipython",
        "version": 3
      },
      "file_extension": ".py",
      "mimetype": "text/x-python",
      "name": "python",
      "nbconvert_exporter": "python",
      "pygments_lexer": "ipython3",
      "version": "3.9.13"
    }
  },
  "nbformat": 4,
  "nbformat_minor": 0
}
